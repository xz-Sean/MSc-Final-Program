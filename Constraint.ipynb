{
 "cells": [
  {
   "cell_type": "markdown",
   "id": "3a34b8f3",
   "metadata": {},
   "source": [
    "# Constraint Filter\n",
    "\n",
    "The criterion can be adjusted by the task's requirement."
   ]
  },
  {
   "cell_type": "code",
   "execution_count": null,
   "id": "44d00ca7",
   "metadata": {},
   "outputs": [],
   "source": [
    "import pandas as pd\n",
    "import numpy as np\n",
    "\n",
    "# Check physcial rules\n",
    "# This function should be adjusted according to real situation\n",
    "def rule_violation(df: pd.DataFrame) -> pd.Series:\n",
    "    v = pd.Series(False, index=df.index)\n",
    "    # v |= df['burden'] > df['spacing']            # Normally S/B > 1\n",
    "    # v |= df['powder_factor'] < 0.55              # Depend on the task's requirement\n",
    "    # v |= df['vibration_ppv'] > 250               # Risk of free surface erosion\n",
    "    # v |= df['charge_weight'] > 85                # Basing on the local policy\n",
    "    # v |= df['fragmentation_index'].between(5, 25, inclusive='neither')\n",
    "    return v        # 'True': Date breaks physical rules.\n",
    "\n",
    "# Unify and process\n",
    "def postprocess(df: pd.DataFrame) -> pd.DataFrame:\n",
    "    # clip to limit upper bound\n",
    "    df['vibration_ppv'] = df['vibration_ppv'].clip(upper=250)\n",
    "    df['charge_weight'] = df['charge_weight'].clip(upper=85)\n",
    "    df['num_cartridges'] = df['num_cartridges'].round().astype(int)\n",
    "    return df\n",
    "\n",
    "# Main function\n",
    "def apply_constraints(fake_df: pd.DataFrame, target_n: int) -> pd.DataFrame:\n",
    "    kept = []\n",
    "    need = target_n\n",
    "    attempts = 0\n",
    "    while need > 0 and attempts < 5:            # Max attempt: 5\n",
    "        batch = fake_df.sample(need * 2, replace=True, random_state=attempts)\n",
    "        batch = postprocess(batch)\n",
    "        batch_valid = batch[~rule_violation(batch)]\n",
    "        kept.append(batch_valid)\n",
    "        need = target_n - sum(len(k) for k in kept)\n",
    "        attempts += 1\n",
    "\n",
    "    final = pd.concat(kept).iloc[:target_n]\n",
    "    discard_rate = 1 - len(final) / (target_n * attempts)\n",
    "    print(f\"Discard rate ≈ {discard_rate:.2%}\")\n",
    "    if discard_rate > 0.5:\n",
    "        print(\"Half of the data do not pass the filter.\")\n",
    "    return final.reset_index(drop=True)"
   ]
  }
 ],
 "metadata": {
  "kernelspec": {
   "display_name": "IRP",
   "language": "python",
   "name": "python3"
  },
  "language_info": {
   "name": "python",
   "version": "3.8.19"
  }
 },
 "nbformat": 4,
 "nbformat_minor": 5
}
